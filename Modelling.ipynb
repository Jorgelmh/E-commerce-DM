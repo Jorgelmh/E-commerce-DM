{
 "cells": [
  {
   "cell_type": "code",
   "execution_count": 1,
   "metadata": {},
   "outputs": [
    {
     "name": "stdout",
     "output_type": "stream",
     "text": [
      "Last updated: 2021-04-25T19:04:24.126711+01:00\n",
      "\n",
      "Python implementation: CPython\n",
      "Python version       : 3.8.5\n",
      "IPython version      : 7.19.0\n",
      "\n",
      "Compiler    : MSC v.1916 64 bit (AMD64)\n",
      "OS          : Windows\n",
      "Release     : 10\n",
      "Machine     : AMD64\n",
      "Processor   : AMD64 Family 23 Model 32 Stepping 1, AuthenticAMD\n",
      "CPU cores   : 2\n",
      "Architecture: 64bit\n",
      "\n"
     ]
    }
   ],
   "source": [
    "%load_ext watermark\n",
    "%watermark"
   ]
  },
  {
   "cell_type": "markdown",
   "metadata": {},
   "source": [
    "## Modelling\n",
    "\n",
    "The aim of this notebook is to implement 2 different classification models, try them with different hyperparameters using a random search and finally choose the model that performs best on valdiation data to be tested against test data separated previously. The models will be:\n",
    "\n",
    "- Random Forest\n",
    "- Logistic Regression"
   ]
  },
  {
   "cell_type": "code",
   "execution_count": 98,
   "metadata": {},
   "outputs": [
    {
     "data": {
      "text/html": [
       "<div>\n",
       "<style scoped>\n",
       "    .dataframe tbody tr th:only-of-type {\n",
       "        vertical-align: middle;\n",
       "    }\n",
       "\n",
       "    .dataframe tbody tr th {\n",
       "        vertical-align: top;\n",
       "    }\n",
       "\n",
       "    .dataframe thead th {\n",
       "        text-align: right;\n",
       "    }\n",
       "</style>\n",
       "<table border=\"1\" class=\"dataframe\">\n",
       "  <thead>\n",
       "    <tr style=\"text-align: right;\">\n",
       "      <th></th>\n",
       "      <th>Customer_care_calls</th>\n",
       "      <th>Customer_rating</th>\n",
       "      <th>Cost_of_the_Product</th>\n",
       "      <th>Prior_purchases</th>\n",
       "      <th>Product_importance</th>\n",
       "      <th>Gender</th>\n",
       "      <th>Discount_offered</th>\n",
       "      <th>Weight_in_gms</th>\n",
       "      <th>Warehouse_block_A</th>\n",
       "      <th>Warehouse_block_B</th>\n",
       "      <th>Warehouse_block_C</th>\n",
       "      <th>Warehouse_block_D</th>\n",
       "      <th>Warehouse_block_F</th>\n",
       "      <th>Mode_of_Shipment_Flight</th>\n",
       "      <th>Mode_of_Shipment_Road</th>\n",
       "      <th>Mode_of_Shipment_Ship</th>\n",
       "      <th>Price_paid</th>\n",
       "    </tr>\n",
       "  </thead>\n",
       "  <tbody>\n",
       "    <tr>\n",
       "      <th>9169</th>\n",
       "      <td>1.0</td>\n",
       "      <td>0</td>\n",
       "      <td>0.777778</td>\n",
       "      <td>2.0</td>\n",
       "      <td>1</td>\n",
       "      <td>0</td>\n",
       "      <td>-0.833333</td>\n",
       "      <td>-0.918860</td>\n",
       "      <td>0</td>\n",
       "      <td>0</td>\n",
       "      <td>0</td>\n",
       "      <td>0</td>\n",
       "      <td>1</td>\n",
       "      <td>0</td>\n",
       "      <td>1</td>\n",
       "      <td>0</td>\n",
       "      <td>0.940126</td>\n",
       "    </tr>\n",
       "    <tr>\n",
       "      <th>2055</th>\n",
       "      <td>0.5</td>\n",
       "      <td>2</td>\n",
       "      <td>0.172840</td>\n",
       "      <td>0.0</td>\n",
       "      <td>2</td>\n",
       "      <td>0</td>\n",
       "      <td>5.166667</td>\n",
       "      <td>-0.158542</td>\n",
       "      <td>0</td>\n",
       "      <td>1</td>\n",
       "      <td>0</td>\n",
       "      <td>0</td>\n",
       "      <td>0</td>\n",
       "      <td>1</td>\n",
       "      <td>0</td>\n",
       "      <td>0</td>\n",
       "      <td>-0.494432</td>\n",
       "    </tr>\n",
       "    <tr>\n",
       "      <th>8761</th>\n",
       "      <td>-0.5</td>\n",
       "      <td>3</td>\n",
       "      <td>-0.962963</td>\n",
       "      <td>0.0</td>\n",
       "      <td>2</td>\n",
       "      <td>1</td>\n",
       "      <td>-0.166667</td>\n",
       "      <td>0.152936</td>\n",
       "      <td>0</td>\n",
       "      <td>0</td>\n",
       "      <td>0</td>\n",
       "      <td>0</td>\n",
       "      <td>1</td>\n",
       "      <td>0</td>\n",
       "      <td>1</td>\n",
       "      <td>0</td>\n",
       "      <td>-0.643511</td>\n",
       "    </tr>\n",
       "    <tr>\n",
       "      <th>8059</th>\n",
       "      <td>0.5</td>\n",
       "      <td>1</td>\n",
       "      <td>-0.283951</td>\n",
       "      <td>1.0</td>\n",
       "      <td>1</td>\n",
       "      <td>0</td>\n",
       "      <td>-0.666667</td>\n",
       "      <td>0.447905</td>\n",
       "      <td>0</td>\n",
       "      <td>0</td>\n",
       "      <td>0</td>\n",
       "      <td>0</td>\n",
       "      <td>1</td>\n",
       "      <td>0</td>\n",
       "      <td>1</td>\n",
       "      <td>0</td>\n",
       "      <td>-0.010255</td>\n",
       "    </tr>\n",
       "    <tr>\n",
       "      <th>5995</th>\n",
       "      <td>1.0</td>\n",
       "      <td>0</td>\n",
       "      <td>0.444444</td>\n",
       "      <td>1.0</td>\n",
       "      <td>1</td>\n",
       "      <td>1</td>\n",
       "      <td>-0.500000</td>\n",
       "      <td>-0.972434</td>\n",
       "      <td>0</td>\n",
       "      <td>0</td>\n",
       "      <td>0</td>\n",
       "      <td>0</td>\n",
       "      <td>1</td>\n",
       "      <td>0</td>\n",
       "      <td>0</td>\n",
       "      <td>1</td>\n",
       "      <td>0.593230</td>\n",
       "    </tr>\n",
       "  </tbody>\n",
       "</table>\n",
       "</div>"
      ],
      "text/plain": [
       "      Customer_care_calls  Customer_rating  Cost_of_the_Product  \\\n",
       "9169                  1.0                0             0.777778   \n",
       "2055                  0.5                2             0.172840   \n",
       "8761                 -0.5                3            -0.962963   \n",
       "8059                  0.5                1            -0.283951   \n",
       "5995                  1.0                0             0.444444   \n",
       "\n",
       "      Prior_purchases  Product_importance  Gender  Discount_offered  \\\n",
       "9169              2.0                   1       0         -0.833333   \n",
       "2055              0.0                   2       0          5.166667   \n",
       "8761              0.0                   2       1         -0.166667   \n",
       "8059              1.0                   1       0         -0.666667   \n",
       "5995              1.0                   1       1         -0.500000   \n",
       "\n",
       "      Weight_in_gms  Warehouse_block_A  Warehouse_block_B  Warehouse_block_C  \\\n",
       "9169      -0.918860                  0                  0                  0   \n",
       "2055      -0.158542                  0                  1                  0   \n",
       "8761       0.152936                  0                  0                  0   \n",
       "8059       0.447905                  0                  0                  0   \n",
       "5995      -0.972434                  0                  0                  0   \n",
       "\n",
       "      Warehouse_block_D  Warehouse_block_F  Mode_of_Shipment_Flight  \\\n",
       "9169                  0                  1                        0   \n",
       "2055                  0                  0                        1   \n",
       "8761                  0                  1                        0   \n",
       "8059                  0                  1                        0   \n",
       "5995                  0                  1                        0   \n",
       "\n",
       "      Mode_of_Shipment_Road  Mode_of_Shipment_Ship  Price_paid  \n",
       "9169                      1                      0    0.940126  \n",
       "2055                      0                      0   -0.494432  \n",
       "8761                      1                      0   -0.643511  \n",
       "8059                      1                      0   -0.010255  \n",
       "5995                      0                      1    0.593230  "
      ]
     },
     "execution_count": 98,
     "metadata": {},
     "output_type": "execute_result"
    }
   ],
   "source": [
    "import pandas as pd\n",
    "import numpy as np\n",
    "from sklearn.preprocessing import RobustScaler\n",
    "from sklearn.model_selection import RandomizedSearchCV, cross_val_score\n",
    "from sklearn.metrics import mean_squared_error, confusion_matrix\n",
    "import matplotlib.pyplot as plt\n",
    "\n",
    "# Train set with no outliers\n",
    "train_set_outliers = pd.read_pickle('./train_set.pkl')\n",
    "X_train_outliers = train_set_outliers.drop(['Reached.on.Time_Y.N'], axis=1) \n",
    "y_train_outliers = train_set_outliers['Reached.on.Time_Y.N']\n",
    "\n",
    "# Train set with outliers\n",
    "train_set = pd.read_pickle('./train_set_outliers.pkl')\n",
    "X_train = train_set.drop(['Reached.on.Time_Y.N'], axis=1)\n",
    "y_train = train_set['Reached.on.Time_Y.N']\n",
    "\n",
    "# Test set (20% of raw data)\n",
    "test_set = pd.read_pickle('./test_set.pkl')\n",
    "X_test = test_set.drop(['Reached.on.Time_Y.N'], axis=1)\n",
    "y_test = test_set['Reached.on.Time_Y.N']\n",
    "\n",
    "X_train.head(5)"
   ]
  },
  {
   "cell_type": "markdown",
   "metadata": {},
   "source": [
    "## Logistic Regression"
   ]
  },
  {
   "cell_type": "code",
   "execution_count": 3,
   "metadata": {},
   "outputs": [
    {
     "data": {
      "text/plain": [
       "{'C': 0.2904180608409973, 'penalty': 'l1'}"
      ]
     },
     "execution_count": 3,
     "metadata": {},
     "output_type": "execute_result"
    }
   ],
   "source": [
    "# Training with data that doesn't contain any outliers\n",
    "from sklearn.linear_model import LogisticRegression\n",
    "from scipy.stats import uniform\n",
    "\n",
    "# Distributions to randomize\n",
    "distributions = dict(C=uniform(loc=0, scale=5),\n",
    "                      penalty=['l2', 'l1'])\n",
    "\n",
    "clf_logistic = RandomizedSearchCV(LogisticRegression(solver='saga', max_iter=1000), distributions, random_state=42)\n",
    "search = clf_logistic.fit(X_train_outliers, y_train_outliers)\n",
    "params = search.best_params_\n",
    "params"
   ]
  },
  {
   "cell_type": "code",
   "execution_count": 4,
   "metadata": {},
   "outputs": [
    {
     "data": {
      "text/plain": [
       "0.5530590991929185"
      ]
     },
     "execution_count": 4,
     "metadata": {},
     "output_type": "execute_result"
    }
   ],
   "source": [
    "clf_lr = LogisticRegression(solver='saga', max_iter=1000, **params)\n",
    "cv_results = cross_val_score(clf_lr, X_train_outliers, y_train_outliers, cv=10)\n",
    "cv_results.mean()"
   ]
  },
  {
   "cell_type": "code",
   "execution_count": 5,
   "metadata": {},
   "outputs": [
    {
     "data": {
      "text/plain": [
       "(array([[  16.,  112.,  213.,  661., 1625., 1997., 1412.,  540.,   92.,\n",
       "            4.],\n",
       "        [   4.,   92.,  540., 1412., 1997., 1625.,  661.,  213.,  112.,\n",
       "           16.]]),\n",
       " array([0.19449275, 0.2555942 , 0.31669565, 0.3777971 , 0.43889855,\n",
       "        0.5       , 0.56110145, 0.6222029 , 0.68330435, 0.7444058 ,\n",
       "        0.80550725]),\n",
       " <a list of 2 BarContainer objects>)"
      ]
     },
     "execution_count": 5,
     "metadata": {},
     "output_type": "execute_result"
    },
    {
     "data": {
      "image/png": "[encoded data removed]",
      "text/plain": [
       "<Figure size 432x288 with 1 Axes>"
      ]
     },
     "metadata": {
      "needs_background": "light"
     },
     "output_type": "display_data"
    }
   ],
   "source": [
    "clf_lr.fit(X_train_outliers, y_train_outliers)\n",
    "plt.hist(clf_lr.predict_proba(X_train_outliers))"
   ]
  },
  {
   "cell_type": "code",
   "execution_count": 6,
   "metadata": {},
   "outputs": [
    {
     "data": {
      "text/plain": [
       "{'C': 1.8727005942368125, 'penalty': 'l2'}"
      ]
     },
     "execution_count": 6,
     "metadata": {},
     "output_type": "execute_result"
    }
   ],
   "source": [
    "# Training with data that contains all values\n",
    "# Distributions to randomize\n",
    "distributions = dict(C=uniform(loc=0, scale=5),\n",
    "                      penalty=['l2'])\n",
    "clf_logistic = RandomizedSearchCV(LogisticRegression(solver='saga', max_iter=1000), distributions, random_state=42)\n",
    "search = clf_logistic.fit(X_train, y_train)\n",
    "params = search.best_params_\n",
    "params"
   ]
  },
  {
   "cell_type": "code",
   "execution_count": 7,
   "metadata": {},
   "outputs": [
    {
     "data": {
      "text/plain": [
       "0.6424588892336333"
      ]
     },
     "execution_count": 7,
     "metadata": {},
     "output_type": "execute_result"
    }
   ],
   "source": [
    "clf_lr_outliers = LogisticRegression(solver='saga', max_iter=1000, **params)\n",
    "cv_results = cross_val_score(clf_lr_outliers, X_train, y_train, cv=10)\n",
    "cv_results.mean()"
   ]
  },
  {
   "cell_type": "code",
   "execution_count": 8,
   "metadata": {},
   "outputs": [
    {
     "data": {
      "text/plain": [
       "(array([[1733.,  276.,  253.,  938., 1848., 2096., 1363.,  287.,    5.,\n",
       "            0.],\n",
       "        [   0.,    5.,  287., 1363., 2096., 1848.,  938.,  253.,  276.,\n",
       "         1733.]]),\n",
       " array([1.73363274e-04, 1.00138691e-01, 2.00104018e-01, 3.00069345e-01,\n",
       "        4.00034673e-01, 5.00000000e-01, 5.99965327e-01, 6.99930655e-01,\n",
       "        7.99895982e-01, 8.99861309e-01, 9.99826637e-01]),\n",
       " <a list of 2 BarContainer objects>)"
      ]
     },
     "execution_count": 8,
     "metadata": {},
     "output_type": "execute_result"
    },
    {
     "data": {
      "image/png": "[encoded data removed]",
      "text/plain": [
       "<Figure size 432x288 with 1 Axes>"
      ]
     },
     "metadata": {
      "needs_background": "light"
     },
     "output_type": "display_data"
    }
   ],
   "source": [
    "clf_lr_outliers.fit(X_train, y_train)\n",
    "plt.hist(clf_lr_outliers.predict_proba(X_train))"
   ]
  },
  {
   "cell_type": "markdown",
   "metadata": {},
   "source": [
    "## Random Forest"
   ]
  },
  {
   "cell_type": "code",
   "execution_count": 9,
   "metadata": {},
   "outputs": [
    {
     "data": {
      "text/plain": [
       "{'max_features': 'log2', 'min_samples_split': 19, 'n_estimators': 134}"
      ]
     },
     "execution_count": 9,
     "metadata": {},
     "output_type": "execute_result"
    }
   ],
   "source": [
    "from scipy.stats import randint\n",
    "from sklearn.ensemble import RandomForestClassifier\n",
    "\n",
    "distributions = dict(max_features=['auto', 'sqrt', 'log2'], n_estimators=randint(80, 150), min_samples_split=randint(2, 20))\n",
    "\n",
    "# Training with data that doesn't contain outliers\n",
    "clf_rf = RandomizedSearchCV(RandomForestClassifier(), distributions, cv=10)\n",
    "search = clf_rf.fit(X_train_outliers, y_train_outliers)\n",
    "params = search.best_params_\n",
    "params"
   ]
  },
  {
   "cell_type": "code",
   "execution_count": 10,
   "metadata": {},
   "outputs": [
    {
     "data": {
      "text/plain": [
       "0.5797392471428956"
      ]
     },
     "execution_count": 10,
     "metadata": {},
     "output_type": "execute_result"
    }
   ],
   "source": [
    "random_forest = RandomForestClassifier(**params)\n",
    "cv_results = cross_val_score(random_forest, X_train_outliers, y_train_outliers, cv=10)\n",
    "cv_results.mean()"
   ]
  },
  {
   "cell_type": "code",
   "execution_count": 11,
   "metadata": {},
   "outputs": [
    {
     "data": {
      "text/plain": [
       "(array([[ 332.,  191.,  123.,  520., 1572., 1201., 2115.,  612.,    6.,\n",
       "            0.],\n",
       "        [   0.,    6.,  612., 2115., 1201., 1572.,  520.,  123.,  191.,\n",
       "          332.]]),\n",
       " array([0. , 0.1, 0.2, 0.3, 0.4, 0.5, 0.6, 0.7, 0.8, 0.9, 1. ]),\n",
       " <a list of 2 BarContainer objects>)"
      ]
     },
     "execution_count": 11,
     "metadata": {},
     "output_type": "execute_result"
    },
    {
     "data": {
      "image/png": "[encoded data removed]",
      "text/plain": [
       "<Figure size 432x288 with 1 Axes>"
      ]
     },
     "metadata": {
      "needs_background": "light"
     },
     "output_type": "display_data"
    }
   ],
   "source": [
    "random_forest.fit(X_train_outliers, y_train_outliers)\n",
    "plt.hist(random_forest.predict_proba(X_train_outliers))"
   ]
  },
  {
   "cell_type": "code",
   "execution_count": 82,
   "metadata": {},
   "outputs": [
    {
     "data": {
      "text/plain": [
       "{'criterion': 'gini',\n",
       " 'max_depth': 101,\n",
       " 'max_features': 'sqrt',\n",
       " 'min_samples_leaf': 6,\n",
       " 'n_estimators': 136}"
      ]
     },
     "execution_count": 82,
     "metadata": {},
     "output_type": "execute_result"
    }
   ],
   "source": [
    "# Training with data containing outliers\n",
    "distributions = dict(criterion = ['gini','entropy'], max_features=['auto', 'sqrt', 'log2'], n_estimators=randint(80, 150), max_depth=randint(10,110),\n",
    "                    min_samples_leaf=randint(2,10))\n",
    "clf_rf = RandomizedSearchCV(RandomForestClassifier(), distributions, cv=10, scoring='accuracy')\n",
    "search = clf_rf.fit(X_train, y_train)\n",
    "params = search.best_params_\n",
    "params"
   ]
  },
  {
   "cell_type": "code",
   "execution_count": 83,
   "metadata": {},
   "outputs": [
    {
     "data": {
      "text/plain": [
       "0.6725771796462924"
      ]
     },
     "execution_count": 83,
     "metadata": {},
     "output_type": "execute_result"
    }
   ],
   "source": [
    "random_forest = RandomForestClassifier(**params)\n",
    "cv_results = cross_val_score(random_forest, X_train, y_train, cv=10)\n",
    "cv_results.mean()"
   ]
  },
  {
   "cell_type": "code",
   "execution_count": 84,
   "metadata": {},
   "outputs": [
    {
     "data": {
      "text/plain": [
       "(array([[2301.,  184.,   90.,  491., 1624., 1411., 2143.,  551.,    4.,\n",
       "            0.],\n",
       "        [   0.,    4.,  551., 2143., 1411., 1624.,  491.,   90.,  184.,\n",
       "         2301.]]),\n",
       " array([0. , 0.1, 0.2, 0.3, 0.4, 0.5, 0.6, 0.7, 0.8, 0.9, 1. ]),\n",
       " <a list of 2 BarContainer objects>)"
      ]
     },
     "execution_count": 84,
     "metadata": {},
     "output_type": "execute_result"
    },
    {
     "data": {
      "image/png": "[encoded data removed]",
      "text/plain": [
       "<Figure size 432x288 with 1 Axes>"
      ]
     },
     "metadata": {
      "needs_background": "light"
     },
     "output_type": "display_data"
    }
   ],
   "source": [
    "random_forest.fit(X_train, y_train)\n",
    "plt.hist(random_forest.predict_proba(X_train))"
   ]
  },
  {
   "cell_type": "markdown",
   "metadata": {},
   "source": [
    "## Evaluation\n",
    "\n",
    "Random Forest with the dataset including outliers is the one that performs best on training data."
   ]
  },
  {
   "cell_type": "code",
   "execution_count": 109,
   "metadata": {},
   "outputs": [
    {
     "data": {
      "text/plain": [
       "RandomForestClassifier(max_depth=101, max_features='sqrt', min_samples_leaf=6,\n",
       "                       n_estimators=136, random_state=42)"
      ]
     },
     "execution_count": 109,
     "metadata": {},
     "output_type": "execute_result"
    }
   ],
   "source": [
    "clf_test = RandomForestClassifier(**params, random_state=42)\n",
    "clf_test.fit(X_train, y_train)"
   ]
  },
  {
   "cell_type": "code",
   "execution_count": 110,
   "metadata": {},
   "outputs": [],
   "source": [
    "scaler = RobustScaler()\n",
    "numerical_columns = ['Customer_care_calls', 'Cost_of_the_Product','Discount_offered', 'Prior_purchases','Weight_in_gms', 'Price_paid']\n",
    "X_test[numerical_columns] = scaler.fit_transform(X_test[numerical_columns])"
   ]
  },
  {
   "cell_type": "code",
   "execution_count": 112,
   "metadata": {},
   "outputs": [
    {
     "data": {
      "image/png": "[encoded data removed]",
      "text/plain": [
       "<Figure size 576x576 with 1 Axes>"
      ]
     },
     "metadata": {
      "needs_background": "light"
     },
     "output_type": "display_data"
    }
   ],
   "source": [
    "cm = confusion_matrix(y_test, rf_tuned.predict(X=X_test))\n",
    "\n",
    "fig, ax = plt.subplots(figsize=(8, 8))\n",
    "ax.imshow(cm)\n",
    "ax.grid(False)\n",
    "ax.xaxis.set(ticks=(0, 1), ticklabels=('Predicted Delayed', 'Predicted On Time'))\n",
    "ax.yaxis.set(ticks=(0, 1), ticklabels=('Actual Delayed', 'Actual On Time'))\n",
    "ax.set_ylim(1.5, -0.5)\n",
    "for i in range(2):\n",
    "    for j in range(2):\n",
    "        ax.text(j, i, cm[i, j], ha='center', va='center', color='red')\n",
    "plt.show()"
   ]
  },
  {
   "cell_type": "code",
   "execution_count": 113,
   "metadata": {},
   "outputs": [
    {
     "data": {
      "text/plain": [
       "(array([[2270.,  207.,  114.,  473., 1643., 1403., 2135.,  551.,    3.,\n",
       "            0.],\n",
       "        [   0.,    3.,  551., 2135., 1403., 1643.,  473.,  114.,  207.,\n",
       "         2270.]]),\n",
       " array([0. , 0.1, 0.2, 0.3, 0.4, 0.5, 0.6, 0.7, 0.8, 0.9, 1. ]),\n",
       " <a list of 2 BarContainer objects>)"
      ]
     },
     "execution_count": 113,
     "metadata": {},
     "output_type": "execute_result"
    },
    {
     "data": {
      "image/png": "[encoded data removed]",
      "text/plain": [
       "<Figure size 432x288 with 1 Axes>"
      ]
     },
     "metadata": {
      "needs_background": "light"
     },
     "output_type": "display_data"
    }
   ],
   "source": [
    "plt.hist(clf_test.predict_proba(X_train))"
   ]
  },
  {
   "cell_type": "code",
   "execution_count": 114,
   "metadata": {},
   "outputs": [
    {
     "data": {
      "text/plain": [
       "(array([[527.,  69.,  41.,  31., 253., 819., 439.,  21.,   0.,   0.],\n",
       "        [  0.,   0.,  21., 439., 819., 253.,  31.,  41.,  69., 527.]]),\n",
       " array([0. , 0.1, 0.2, 0.3, 0.4, 0.5, 0.6, 0.7, 0.8, 0.9, 1. ]),\n",
       " <a list of 2 BarContainer objects>)"
      ]
     },
     "execution_count": 114,
     "metadata": {},
     "output_type": "execute_result"
    },
    {
     "data": {
      "image/png": "[encoded data removed]",
      "text/plain": [
       "<Figure size 432x288 with 1 Axes>"
      ]
     },
     "metadata": {
      "needs_background": "light"
     },
     "output_type": "display_data"
    }
   ],
   "source": [
    "plt.hist(clf_test.predict_proba(X_test))"
   ]
  },
  {
   "cell_type": "code",
   "execution_count": 115,
   "metadata": {},
   "outputs": [
    {
     "data": {
      "text/plain": [
       "0.6568181818181819"
      ]
     },
     "execution_count": 115,
     "metadata": {},
     "output_type": "execute_result"
    }
   ],
   "source": [
    "clf_test.score(X_test, y_test)"
   ]
  },
  {
   "cell_type": "code",
   "execution_count": null,
   "metadata": {},
   "outputs": [],
   "source": []
  }
 ],
 "metadata": {
  "kernelspec": {
   "display_name": "Python 3",
   "language": "python",
   "name": "python3"
  },
  "language_info": {
   "codemirror_mode": {
    "name": "ipython",
    "version": 3
   },
   "file_extension": ".py",
   "mimetype": "text/x-python",
   "name": "python",
   "nbconvert_exporter": "python",
   "pygments_lexer": "ipython3",
   "version": "3.8.5"
  }
 },
 "nbformat": 4,
 "nbformat_minor": 4
}

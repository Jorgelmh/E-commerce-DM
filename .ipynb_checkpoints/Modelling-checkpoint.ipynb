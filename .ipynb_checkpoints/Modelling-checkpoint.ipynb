{
 "cells": [
  {
   "cell_type": "code",
   "execution_count": 1,
   "metadata": {},
   "outputs": [
    {
     "name": "stdout",
     "output_type": "stream",
     "text": [
      "Last updated: 2021-04-25T15:29:55.033349+01:00\n",
      "\n",
      "Python implementation: CPython\n",
      "Python version       : 3.8.5\n",
      "IPython version      : 7.19.0\n",
      "\n",
      "Compiler    : MSC v.1916 64 bit (AMD64)\n",
      "OS          : Windows\n",
      "Release     : 10\n",
      "Machine     : AMD64\n",
      "Processor   : AMD64 Family 23 Model 32 Stepping 1, AuthenticAMD\n",
      "CPU cores   : 2\n",
      "Architecture: 64bit\n",
      "\n"
     ]
    }
   ],
   "source": [
    "%load_ext watermark\n",
    "%watermark"
   ]
  },
  {
   "cell_type": "markdown",
   "metadata": {},
   "source": [
    "## Modelling\n",
    "\n",
    "The aim of this notebook is to implement 2 different classification models, try them with different hyperparameters using a random search and finally choose the model that performs best on valdiation data to be tested against test data separated previously. The models will be:\n",
    "\n",
    "- Random Forest\n",
    "- Logistic Regression"
   ]
  },
  {
   "cell_type": "code",
   "execution_count": 2,
   "metadata": {},
   "outputs": [],
   "source": [
    "import pandas as pd\n",
    "import numpy as np\n",
    "from sklearn.preprocessing import RobustScaler\n",
    "from sklearn.model_selection import RandomizedSearchCV, cross_val_score\n",
    "import matplotlib.pyplot as plt\n",
    "\n",
    "# Train set with no outliers\n",
    "train_set_outliers = pd.read_pickle('./train_set.pkl')\n",
    "X_train_outliers = train_set_outliers.drop(['Reached.on.Time_Y.N'], axis=1) \n",
    "y_train_outliers = train_set_outliers['Reached.on.Time_Y.N']\n",
    "\n",
    "# Train set with outliers\n",
    "train_set = pd.read_pickle('./train_set_outliers.pkl')\n",
    "X_train = train_set.drop(['Reached.on.Time_Y.N'], axis=1)\n",
    "y_train = train_set['Reached.on.Time_Y.N']\n",
    "\n",
    "# Test set (20% of raw data)\n",
    "test_set = pd.read_pickle('./test_set.pkl')\n",
    "X_test = test_set.drop(['Reached.on.Time_Y.N'], axis=1)\n",
    "y_test = test_set['Reached.on.Time_Y.N']"
   ]
  },
  {
   "cell_type": "markdown",
   "metadata": {},
   "source": [
    "## Logistic Regression"
   ]
  },
  {
   "cell_type": "code",
   "execution_count": 3,
   "metadata": {},
   "outputs": [
    {
     "data": {
      "text/plain": [
       "{'C': 0.2904180608409973, 'penalty': 'l1'}"
      ]
     },
     "execution_count": 3,
     "metadata": {},
     "output_type": "execute_result"
    }
   ],
   "source": [
    "# Training with data that doesn't contain any outliers\n",
    "from sklearn.linear_model import LogisticRegression\n",
    "from scipy.stats import uniform\n",
    "\n",
    "# Distributions to randomize\n",
    "distributions = dict(C=uniform(loc=0, scale=5),\n",
    "                      penalty=['l2', 'l1'])\n",
    "\n",
    "clf_logistic = RandomizedSearchCV(LogisticRegression(solver='saga', max_iter=1000), distributions, random_state=42)\n",
    "search = clf_logistic.fit(X_train_outliers, y_train_outliers)\n",
    "params = search.best_params_\n",
    "params"
   ]
  },
  {
   "cell_type": "code",
   "execution_count": 4,
   "metadata": {},
   "outputs": [
    {
     "data": {
      "text/plain": [
       "0.5532087997917208"
      ]
     },
     "execution_count": 4,
     "metadata": {},
     "output_type": "execute_result"
    }
   ],
   "source": [
    "clf_lr = LogisticRegression(solver='saga', max_iter=1000, **params)\n",
    "cv_results = cross_val_score(clf_lr, X_train_outliers, y_train_outliers, cv=10)\n",
    "cv_results.mean()"
   ]
  },
  {
   "cell_type": "code",
   "execution_count": 5,
   "metadata": {},
   "outputs": [
    {
     "data": {
      "text/plain": [
       "(array([[  16.,  112.,  213.,  661., 1625., 1997., 1412.,  540.,   92.,\n",
       "            4.],\n",
       "        [   4.,   92.,  540., 1412., 1997., 1625.,  661.,  213.,  112.,\n",
       "           16.]]),\n",
       " array([0.19450977, 0.25560781, 0.31670586, 0.37780391, 0.43890195,\n",
       "        0.5       , 0.56109805, 0.62219609, 0.68329414, 0.74439219,\n",
       "        0.80549023]),\n",
       " <a list of 2 BarContainer objects>)"
      ]
     },
     "execution_count": 5,
     "metadata": {},
     "output_type": "execute_result"
    },
    {
     "data": {
      "image/png": "[encoded data removed]",
      "text/plain": [
       "<Figure size 432x288 with 1 Axes>"
      ]
     },
     "metadata": {
      "needs_background": "light"
     },
     "output_type": "display_data"
    }
   ],
   "source": [
    "clf_lr.fit(X_train_outliers, y_train_outliers)\n",
    "plt.hist(clf_lr.predict_proba(X_train_outliers))"
   ]
  },
  {
   "cell_type": "code",
   "execution_count": 6,
   "metadata": {},
   "outputs": [
    {
     "data": {
      "text/plain": [
       "{'C': 1.8727005942368125, 'penalty': 'l2'}"
      ]
     },
     "execution_count": 6,
     "metadata": {},
     "output_type": "execute_result"
    }
   ],
   "source": [
    "# Training with data that contains all values\n",
    "# Distributions to randomize\n",
    "distributions = dict(C=uniform(loc=0, scale=5),\n",
    "                      penalty=['l2'])\n",
    "clf_logistic = RandomizedSearchCV(LogisticRegression(solver='saga', max_iter=1000), distributions, random_state=42)\n",
    "search = clf_logistic.fit(X_train, y_train)\n",
    "params = search.best_params_\n",
    "params"
   ]
  },
  {
   "cell_type": "code",
   "execution_count": 7,
   "metadata": {},
   "outputs": [
    {
     "data": {
      "text/plain": [
       "0.6424588892336333"
      ]
     },
     "execution_count": 7,
     "metadata": {},
     "output_type": "execute_result"
    }
   ],
   "source": [
    "clf_lr_outliers = LogisticRegression(solver='saga', max_iter=1000, **params)\n",
    "cv_results = cross_val_score(clf_lr_outliers, X_train, y_train, cv=10)\n",
    "cv_results.mean()"
   ]
  },
  {
   "cell_type": "code",
   "execution_count": 8,
   "metadata": {},
   "outputs": [
    {
     "data": {
      "text/plain": [
       "(array([[1733.,  276.,  253.,  938., 1848., 2096., 1363.,  287.,    5.,\n",
       "            0.],\n",
       "        [   0.,    5.,  287., 1363., 2096., 1848.,  938.,  253.,  276.,\n",
       "         1733.]]),\n",
       " array([1.73366841e-04, 1.00138693e-01, 2.00104020e-01, 3.00069347e-01,\n",
       "        4.00034673e-01, 5.00000000e-01, 5.99965327e-01, 6.99930653e-01,\n",
       "        7.99895980e-01, 8.99861307e-01, 9.99826633e-01]),\n",
       " <a list of 2 BarContainer objects>)"
      ]
     },
     "execution_count": 8,
     "metadata": {},
     "output_type": "execute_result"
    },
    {
     "data": {
      "image/png": "[encoded data removed]",
      "text/plain": [
       "<Figure size 432x288 with 1 Axes>"
      ]
     },
     "metadata": {
      "needs_background": "light"
     },
     "output_type": "display_data"
    }
   ],
   "source": [
    "clf_lr_outliers.fit(X_train, y_train)\n",
    "plt.hist(clf_lr_outliers.predict_proba(X_train))"
   ]
  },
  {
   "cell_type": "markdown",
   "metadata": {},
   "source": [
    "## Random Forest"
   ]
  },
  {
   "cell_type": "code",
   "execution_count": 9,
   "metadata": {},
   "outputs": [
    {
     "data": {
      "text/plain": [
       "{'max_features': 'sqrt', 'min_samples_split': 11, 'n_estimators': 111}"
      ]
     },
     "execution_count": 9,
     "metadata": {},
     "output_type": "execute_result"
    }
   ],
   "source": [
    "from scipy.stats import randint\n",
    "from sklearn.ensemble import RandomForestClassifier\n",
    "\n",
    "distributions = dict(max_features=['auto', 'sqrt', 'log2'], n_estimators=randint(80, 150), min_samples_split=randint(2, 20))\n",
    "\n",
    "# Training with data that doesn't contain outliers\n",
    "clf_rf = RandomizedSearchCV(RandomForestClassifier(), distributions, cv=10)\n",
    "search = clf_rf.fit(X_train_outliers, y_train_outliers)\n",
    "params = search.best_params_\n",
    "params"
   ]
  },
  {
   "cell_type": "code",
   "execution_count": 10,
   "metadata": {},
   "outputs": [
    {
     "data": {
      "text/plain": [
       "0.5773429153686631"
      ]
     },
     "execution_count": 10,
     "metadata": {},
     "output_type": "execute_result"
    }
   ],
   "source": [
    "random_forest = RandomForestClassifier(**params)\n",
    "cv_results = cross_val_score(random_forest, X_train_outliers, y_train_outliers, cv=10)\n",
    "cv_results.mean()"
   ]
  },
  {
   "cell_type": "code",
   "execution_count": 11,
   "metadata": {},
   "outputs": [
    {
     "data": {
      "text/plain": [
       "(array([[ 393.,  160.,  255., 1160., 1139.,  450., 1622., 1391.,  102.,\n",
       "            0.],\n",
       "        [   0.,  102., 1391., 1622.,  450., 1139., 1160.,  255.,  160.,\n",
       "          393.]]),\n",
       " array([0. , 0.1, 0.2, 0.3, 0.4, 0.5, 0.6, 0.7, 0.8, 0.9, 1. ]),\n",
       " <a list of 2 BarContainer objects>)"
      ]
     },
     "execution_count": 11,
     "metadata": {},
     "output_type": "execute_result"
    },
    {
     "data": {
      "image/png": "[encoded data removed]",
      "text/plain": [
       "<Figure size 432x288 with 1 Axes>"
      ]
     },
     "metadata": {
      "needs_background": "light"
     },
     "output_type": "display_data"
    }
   ],
   "source": [
    "random_forest.fit(X_train_outliers, y_train_outliers)\n",
    "plt.hist(random_forest.predict_proba(X_train_outliers))"
   ]
  },
  {
   "cell_type": "code",
   "execution_count": 12,
   "metadata": {},
   "outputs": [
    {
     "data": {
      "text/plain": [
       "{'max_features': 'auto', 'min_samples_split': 16, 'n_estimators': 100}"
      ]
     },
     "execution_count": 12,
     "metadata": {},
     "output_type": "execute_result"
    }
   ],
   "source": [
    "# Training with data containing outliers\n",
    "clf_rf = RandomizedSearchCV(RandomForestClassifier(), distributions, cv=10)\n",
    "search = clf_rf.fit(X_train, y_train)\n",
    "params = search.best_params_\n",
    "params"
   ]
  },
  {
   "cell_type": "code",
   "execution_count": 13,
   "metadata": {},
   "outputs": [
    {
     "data": {
      "text/plain": [
       "0.6675773089254319"
      ]
     },
     "execution_count": 13,
     "metadata": {},
     "output_type": "execute_result"
    }
   ],
   "source": [
    "random_forest = RandomForestClassifier(**params)\n",
    "cv_results = cross_val_score(random_forest, X_train, y_train, cv=10)\n",
    "cv_results.mean()"
   ]
  },
  {
   "cell_type": "code",
   "execution_count": 14,
   "metadata": {},
   "outputs": [
    {
     "data": {
      "text/plain": [
       "(array([[2361.,  137.,  137.,  756., 1479., 1025., 1983.,  889.,   32.,\n",
       "            0.],\n",
       "        [   0.,   32.,  889., 1983., 1025., 1479.,  756.,  137.,  137.,\n",
       "         2361.]]),\n",
       " array([0. , 0.1, 0.2, 0.3, 0.4, 0.5, 0.6, 0.7, 0.8, 0.9, 1. ]),\n",
       " <a list of 2 BarContainer objects>)"
      ]
     },
     "execution_count": 14,
     "metadata": {},
     "output_type": "execute_result"
    },
    {
     "data": {
      "image/png": "[encoded data removed]",
      "text/plain": [
       "<Figure size 432x288 with 1 Axes>"
      ]
     },
     "metadata": {
      "needs_background": "light"
     },
     "output_type": "display_data"
    }
   ],
   "source": [
    "random_forest.fit(X_train, y_train)\n",
    "plt.hist(random_forest.predict_proba(X_train))"
   ]
  },
  {
   "cell_type": "code",
   "execution_count": null,
   "metadata": {},
   "outputs": [],
   "source": []
  }
 ],
 "metadata": {
  "kernelspec": {
   "display_name": "Python 3",
   "language": "python",
   "name": "python3"
  },
  "language_info": {
   "codemirror_mode": {
    "name": "ipython",
    "version": 3
   },
   "file_extension": ".py",
   "mimetype": "text/x-python",
   "name": "python",
   "nbconvert_exporter": "python",
   "pygments_lexer": "ipython3",
   "version": "3.8.5"
  }
 },
 "nbformat": 4,
 "nbformat_minor": 4
}
